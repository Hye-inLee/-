{
 "cells": [
  {
   "cell_type": "code",
   "execution_count": 10,
   "metadata": {},
   "outputs": [
    {
     "data": {
      "image/png": "[encoded data removed]",
      "text/plain": [
       "<Figure size 432x288 with 1 Axes>"
      ]
     },
     "metadata": {
      "needs_background": "light"
     },
     "output_type": "display_data"
    }
   ],
   "source": [
    "from sklearn import datasets\n",
    "import matplotlib.pyplot as plt\n",
    "\n",
    "digits = datasets.load_digits()\n",
    "plt.imshow(digits.images[0],cmap='binary')\n",
    "plt.show()"
   ]
  },
  {
   "cell_type": "code",
   "execution_count": 9,
   "metadata": {},
   "outputs": [
    {
     "data": {
      "text/plain": [
       "['DESCR', 'data', 'images', 'target', 'target_names']"
      ]
     },
     "execution_count": 9,
     "metadata": {},
     "output_type": "execute_result"
    }
   ],
   "source": [
    "from sklearn import datasets\n",
    "\n",
    "digits = datasets.load_digits()\n",
    "dir(digits)"
   ]
  },
  {
   "cell_type": "code",
   "execution_count": 7,
   "metadata": {},
   "outputs": [
    {
     "data": {
      "image/png": "[encoded data removed]",
      "text/plain": [
       "<Figure size 1080x360 with 10 Axes>"
      ]
     },
     "metadata": {
      "needs_background": "light"
     },
     "output_type": "display_data"
    }
   ],
   "source": [
    "from sklearn import datasets\n",
    "\n",
    "digits = datasets.load_digits()\n",
    "\n",
    "fig=plt.figure(figsize=(15,5))\n",
    "for i in range(0,10):\n",
    "    plt.subplot(2,5,i+1)\n",
    "    plt.imshow(digits.images[i],cmap='binary')\n",
    "    plt.axis('off')\n",
    "plt.show()"
   ]
  },
  {
   "cell_type": "code",
   "execution_count": 13,
   "metadata": {},
   "outputs": [
    {
     "data": {
      "text/plain": [
       "(1797, 64)"
      ]
     },
     "execution_count": 13,
     "metadata": {},
     "output_type": "execute_result"
    }
   ],
   "source": [
    "from sklearn import datasets\n",
    "import matplotlib.pyplot as plt\n",
    "\n",
    "digits = datasets.load_digits()\n",
    "\n",
    "x = digits.images.reshape((len(digits.images),\n",
    "                          digits.images.shape[1]*digits.images.shape[2]))\n",
    "x.shape"
   ]
  },
  {
   "cell_type": "code",
   "execution_count": 14,
   "metadata": {},
   "outputs": [
    {
     "data": {
      "text/plain": [
       "array([ 0.,  0.,  5., 13.,  9.,  1.,  0.,  0.,  0.,  0., 13., 15., 10.,\n",
       "       15.,  5.,  0.,  0.,  3., 15.,  2.,  0., 11.,  8.,  0.,  0.,  4.,\n",
       "       12.,  0.,  0.,  8.,  8.,  0.,  0.,  5.,  8.,  0.,  0.,  9.,  8.,\n",
       "        0.,  0.,  4., 11.,  0.,  1., 12.,  7.,  0.,  0.,  2., 14.,  5.,\n",
       "       10., 12.,  0.,  0.,  0.,  0.,  6., 13., 10.,  0.,  0.,  0.])"
      ]
     },
     "execution_count": 14,
     "metadata": {},
     "output_type": "execute_result"
    }
   ],
   "source": [
    "from sklearn import datasets\n",
    "import matplotlib.pyplot as plt\n",
    "\n",
    "digits = datasets.load_digits()\n",
    "\n",
    "x = digits.images.reshape((len(digits.images),\n",
    "                          digits.images.shape[1]*digits.images.shape[2]))\n",
    "x[0]"
   ]
  },
  {
   "cell_type": "code",
   "execution_count": 21,
   "metadata": {},
   "outputs": [],
   "source": [
    "from sklearn import datasets\n",
    "import matplotlib.pyplot as plt\n",
    "from sklearn.neural_network import MLPClassifier\n",
    "\n",
    "digits = datasets.load_digits()\n",
    "x = digits.images.reshape((len(digits.images),\n",
    "                          digits.images.shape[1]*digits.images.shape[2]))\n",
    "y = digits.target"
   ]
  },
  {
   "cell_type": "code",
   "execution_count": 22,
   "metadata": {},
   "outputs": [],
   "source": [
    "from sklearn import datasets\n",
    "import matplotlib.pyplot as plt\n",
    "from sklearn.neural_network import MLPClassifier\n",
    "\n",
    "digits = datasets.load_digits()\n",
    "x = digits.images.reshape((len(digits.images),\n",
    "                          digits.images.shape[1]*digits.images.shape[2]))\n",
    "y = digits.target\n",
    "\n",
    "x_train = x[:1000]\n",
    "y_train = y[:1000]\n",
    "x_test = x[1000:]\n",
    "y_test = y[1000:]"
   ]
  },
  {
   "cell_type": "code",
   "execution_count": 24,
   "metadata": {},
   "outputs": [],
   "source": [
    "from sklearn.neural_network import MLPClassifier\n",
    "\n",
    "mlp = MLPClassifier(hidden_layer_sizes=(15,),\n",
    "                   activation='logistic',\n",
    "                   tol=1e-4,\n",
    "                   learning_rate_init=.1,\n",
    "                   verbose=True)"
   ]
  },
  {
   "cell_type": "code",
   "execution_count": 28,
   "metadata": {},
   "outputs": [
    {
     "name": "stdout",
     "output_type": "stream",
     "text": [
      "Iteration 1, loss = 2.24662415\n",
      "Iteration 2, loss = 1.75495411\n",
      "Iteration 3, loss = 1.30801845\n",
      "Iteration 4, loss = 0.94903931\n",
      "Iteration 5, loss = 0.74027870\n",
      "Iteration 6, loss = 0.61604545\n",
      "Iteration 7, loss = 0.53539078\n",
      "Iteration 8, loss = 0.47804438\n",
      "Iteration 9, loss = 0.45807742\n",
      "Iteration 10, loss = 0.39020042\n",
      "Iteration 11, loss = 0.46334140\n",
      "Iteration 12, loss = 0.47303206\n",
      "Iteration 13, loss = 0.37060745\n",
      "Iteration 14, loss = 0.31641329\n",
      "Iteration 15, loss = 0.30050790\n",
      "Iteration 16, loss = 0.31236370\n",
      "Iteration 17, loss = 0.27726741\n",
      "Iteration 18, loss = 0.26577685\n",
      "Iteration 19, loss = 0.31867548\n",
      "Iteration 20, loss = 0.23549769\n",
      "Iteration 21, loss = 0.23633609\n",
      "Iteration 22, loss = 0.27185299\n",
      "Iteration 23, loss = 0.21656536\n",
      "Iteration 24, loss = 0.18781931\n",
      "Iteration 25, loss = 0.20491196\n",
      "Iteration 26, loss = 0.24659091\n",
      "Iteration 27, loss = 0.24392950\n",
      "Iteration 28, loss = 0.18105435\n",
      "Iteration 29, loss = 0.22970573\n",
      "Iteration 30, loss = 0.17317938\n",
      "Iteration 31, loss = 0.18618296\n",
      "Iteration 32, loss = 0.13541038\n",
      "Iteration 33, loss = 0.14174138\n",
      "Iteration 34, loss = 0.14694472\n",
      "Iteration 35, loss = 0.15042077\n",
      "Iteration 36, loss = 0.14894289\n",
      "Iteration 37, loss = 0.14695224\n",
      "Iteration 38, loss = 0.15865821\n",
      "Iteration 39, loss = 0.15659800\n",
      "Iteration 40, loss = 0.13153195\n",
      "Iteration 41, loss = 0.10472731\n",
      "Iteration 42, loss = 0.17107179\n",
      "Iteration 43, loss = 0.21851564\n",
      "Iteration 44, loss = 0.20160347\n",
      "Iteration 45, loss = 0.15959109\n",
      "Iteration 46, loss = 0.13376139\n",
      "Iteration 47, loss = 0.11810728\n",
      "Iteration 48, loss = 0.15004595\n",
      "Iteration 49, loss = 0.16570210\n",
      "Iteration 50, loss = 0.14264790\n",
      "Iteration 51, loss = 0.14434254\n",
      "Iteration 52, loss = 0.18544697\n",
      "Training loss did not improve more than tol=0.000100 for 10 consecutive epochs. Stopping.\n",
      "[1 4 5 5 9 6 9 6 1 7]\n",
      "[1 4 0 5 3 6 9 6 1 7]\n"
     ]
    }
   ],
   "source": [
    "from sklearn.neural_network import MLPClassifier\n",
    "\n",
    "mlp = MLPClassifier(hidden_layer_sizes=(15,),\n",
    "                   activation='logistic',\n",
    "                   tol=1e-4,\n",
    "                   learning_rate_init=.1,\n",
    "                   verbose=True)\n",
    "mlp.fit(x_train,y_train)\n",
    "\n",
    "\n",
    "print(predictions[:10])\n",
    "print(y_test[:10])"
   ]
  },
  {
   "cell_type": "code",
   "execution_count": null,
   "metadata": {},
   "outputs": [],
   "source": [
    "fig = plt.figure"
   ]
  }
 ],
 "metadata": {
  "kernelspec": {
   "display_name": "Python 3",
   "language": "python",
   "name": "python3"
  },
  "language_info": {
   "codemirror_mode": {
    "name": "ipython",
    "version": 3
   },
   "file_extension": ".py",
   "mimetype": "text/x-python",
   "name": "python",
   "nbconvert_exporter": "python",
   "pygments_lexer": "ipython3",
   "version": "3.8.3"
  }
 },
 "nbformat": 4,
 "nbformat_minor": 4
}
