{
 "cells": [
  {
   "cell_type": "code",
   "execution_count": 45,
   "metadata": {
    "scrolled": true
   },
   "outputs": [
    {
     "ename": "SyntaxError",
     "evalue": "invalid syntax (<ipython-input-45-00846961fd24>, line 48)",
     "output_type": "error",
     "traceback": [
      "\u001b[1;36m  File \u001b[1;32m\"<ipython-input-45-00846961fd24>\"\u001b[1;36m, line \u001b[1;32m48\u001b[0m\n\u001b[1;33m    if aswer = 1:\u001b[0m\n\u001b[1;37m             ^\u001b[0m\n\u001b[1;31mSyntaxError\u001b[0m\u001b[1;31m:\u001b[0m invalid syntax\n"
     ]
    }
   ],
   "source": [
    "#점그리기 성공\n",
    "\n",
    "import numpy as np\n",
    "from matplotlib import pyplot as plt\n",
    "from IPython.display import display,clear_output\n",
    "\n",
    "def predict(w, x_i):\n",
    "    answer = np.tensordot(w, x_i, axes=1)\n",
    "    if answer > 0:\n",
    "        answer = +1\n",
    "    elif answer < 0:\n",
    "        answer = -1\n",
    "    return answer\n",
    "\n",
    "def fit(w,x,y):\n",
    "    is_error_there = True\n",
    "    while is_error_there:\n",
    "        is_error_there = False\n",
    "        for x_i, y_i in zip(x,y):\n",
    "            answer = predict(w, x_i)\n",
    "            if answer != y_i:\n",
    "                w = np.add(w, x_i*y_i)\n",
    "                is_error_there = True\n",
    "    return w\n",
    "\n",
    "\n",
    "x = np.array([[1,1],[1,3],[2,1],[3,2],[5,3],[6,3],[6,5],[7,2]])\n",
    "b = np.ones((x.shape[0],1), dtype=\"int\")\n",
    "x = np.concatenate([b,x], axis=1)\n",
    "print(x)\n",
    "y = np.array([-1,-1,-1,-1,1,1,1,1])\n",
    "y = y.reshape((x.shape[0],1))\n",
    "w = np.random.random(x.shape[1])\n",
    "\n",
    "\n",
    "w = fit(w,x,y)\n",
    "\n",
    "for x_i, y_i in zip(x,y):\n",
    "    answer = predict(w, x_i)\n",
    "    print(x_i[1:], end=\",\")\n",
    "    print(y_i, end=\",\")\n",
    "    print(answer)\n",
    "\n",
    "plt.grid(b=True)\n",
    "plt.axis([0,8.0,0,8.0])\n",
    "plt.scatter(x[:,1],x[:,2])\n",
    "plt.xlabel('x1')\n",
    "plt.ylabel('x2')\n",
    "plt.title('Perceptron',pad=10)\n",
    "\n",
    "for i in range(0,len(x)):\n",
    "    label = \"(\" + str(x[i,1]) + \",\" + str(x[i,2]) + \")\"\n",
    "    plt.annotate(label, xy=(x[i,1],x[i,2]), xytext=(5,-5), textcoords='offset points')\n",
    "    \n",
    "\n",
    "plt.show()"
   ]
  },
  {
   "cell_type": "code",
   "execution_count": 31,
   "metadata": {},
   "outputs": [
    {
     "name": "stdout",
     "output_type": "stream",
     "text": [
      "[[0]\n",
      " [1]\n",
      " [2]\n",
      " [3]\n",
      " [4]\n",
      " [5]\n",
      " [6]\n",
      " [7]\n",
      " [8]]\n"
     ]
    },
    {
     "data": {
      "image/png": "[encoded data removed]",
      "text/plain": [
       "<Figure size 432x288 with 1 Axes>"
      ]
     },
     "metadata": {
      "needs_background": "light"
     },
     "output_type": "display_data"
    }
   ],
   "source": [
    "#선그리려고 시도했지만 실패...\n",
    "\n",
    "import numpy as np\n",
    "from matplotlib import pyplot as plt\n",
    "from IPython.display import display,clear_output\n",
    "\n",
    "def predict(w, x_i):\n",
    "    answer = np.tensordot(w, x_i, axes=1)\n",
    "    if answer > 0:\n",
    "        answer = +1\n",
    "    elif answer < 0:\n",
    "        answer = -1\n",
    "    return answer\n",
    "\n",
    "def fit(w,x,y):\n",
    "    is_error_there = True\n",
    "    while is_error_there:\n",
    "        is_error_there = False\n",
    "        for x_i, y_i in zip(x,y):\n",
    "            answer = predict(w, x_i)\n",
    "            if answer != y_i:\n",
    "                w = np.add(w, x_i*y_i)\n",
    "                is_error_there = True\n",
    "    return w\n",
    "\n",
    "\n",
    "x = np.array([[1,1],[1,3],[2,1],[3,2],[5,3],[6,3],[6,5],[7,2]])\n",
    "b = np.ones((x.shape[0],1), dtype=\"int\")\n",
    "x = np.concatenate([b,x], axis=1)\n",
    "print(x)\n",
    "y = np.array([-1,-1,-1,-1,1,1,1,1])\n",
    "y = y.reshape((x.shape[0],1))\n",
    "w = np.random.random(x.shape[1])\n",
    "\n",
    "\n",
    "w = fit(w,x,y)\n",
    "\n",
    "for x_i, y_i in zip(x,y):\n",
    "    answer = predict(w, x_i)\n",
    "    print(x_i[1:], end=\",\")\n",
    "    print(y_i, end=\",\")\n",
    "    print(answer)\n",
    "\n",
    "plt.grid(b=True)\n",
    "plt.axis([0,8.0,0,8.0])\n",
    "plt.scatter(x[:,1],x[:,2])\n",
    "plt.xlabel('x1')\n",
    "plt.ylabel('x2')\n",
    "plt.title('Perceptron',pad=10)\n",
    "\n",
    "for i in range(0,len(x)):\n",
    "    label = \"(\" + str(x[i,1]) + \",\" + str(x[i,2]) + \")\"\n",
    "    plt.annotate(label, xy=(x[i,1],x[i,2]), xytext=(5,-5), textcoords='offset points')\n",
    "\n",
    "    \n",
    "xy=[]\n",
    "for i in range(0,len(x)):\n",
    "    xy=np.array([x[i,1],x[i,2]])\n",
    "    avg_x = 0\n",
    "    for i in range(0,len(xy)):\n",
    "        avg_x += xy[i,0]\n",
    "    avg_x = avg_x/len(xy)\n",
    "\n",
    "    avg_y = 0\n",
    "    for i in range(0,len(yx)):\n",
    "        avg_y += xy[i,1]\n",
    "    avg_y = avg_y/len(xy)\n",
    "\n",
    "    avg_xy = 0\n",
    "    for i in range(0,len(xy)):\n",
    "        avg_xy += xy[i,0]*xy[i,1]\n",
    "    avg_xy = avg_xy/len(xy)\n",
    "\n",
    "    avg_xx = 0\n",
    "    for i in range(0,len(x)):\n",
    "        avg_xx += xy[i,0]*xy[i,0]\n",
    "    avg_xx = avg_xx/len(xy)\n",
    "\n",
    "\n",
    "    m = (avg_x*avg_y - avg_xy)/(avg_x*avg_x - avg_xx)\n",
    "    b = avg_y - m*avg_x\n",
    "\n",
    "    xline = []\n",
    "    yline = []\n",
    "    for i in range(0,len(x)+1):\n",
    "        xline.append(i)\n",
    "        yline.append(m*i + b)\n",
    "\n",
    "        plt.plot(xline,yline)\n",
    "        clear_output(wait=True)\n",
    "plt.show()\n"
   ]
  },
  {
   "cell_type": "code",
   "execution_count": 40,
   "metadata": {},
   "outputs": [
    {
     "name": "stdout",
     "output_type": "stream",
     "text": [
      "[[7 2]]\n"
     ]
    },
    {
     "data": {
      "image/png": "[encoded data removed]",
      "text/plain": [
       "<Figure size 432x288 with 1 Axes>"
      ]
     },
     "metadata": {
      "needs_background": "light"
     },
     "output_type": "display_data"
    }
   ],
   "source": [
    "import numpy as np\n",
    "from IPython.display import display,clear_output\n",
    "\n",
    "x = np.array([[1,1],[1,3],[2,1],[3,2],[5,3],[6,3],[6,5],[7,2]])\n",
    "b = np.ones((x.shape[0],1), dtype=\"int\")\n",
    "x = np.concatenate([b,x], axis=1)\n",
    "y = np.array([-1,-1,-1,-1,1,1,1,1])\n",
    "y = y.reshape((x.shape[0],1))\n",
    "w = np.random.random(x.shape[1])\n",
    "\n",
    "avg_x = 0\n",
    "for i in range(0,len(x)):\n",
    "    avg_x += x[i,1]\n",
    "avg_x = avg_x/len(x)\n",
    "\n",
    "avg_y = 0\n",
    "for i in range(0,len(y)):\n",
    "    avg_y += x[i,2]\n",
    "avg_y = avg_y/len(y)\n",
    "\n",
    "avg_xy = 0\n",
    "for i in range(0,len(x)):\n",
    "    avg_xy += x[i,1]*x[i,2]\n",
    "avg_xy = avg_xy/len(x)\n",
    "\n",
    "avg_xx = 0\n",
    "for i in range(0,len(x)):\n",
    "    avg_xx += x[i,1]*x[i,1]\n",
    "avg_xx = avg_xx/len(x)\n",
    "\n",
    "\n",
    "m = (avg_x*avg_y - avg_xy)/(avg_x*avg_x - avg_xx)\n",
    "b = avg_y - m*avg_x\n",
    "\n",
    "xline = []\n",
    "yline = []\n",
    "for i in range(0,len(x)+1):\n",
    "    xline.append(i)\n",
    "    yline.append(m*i + b)\n",
    "\n",
    "    plt.plot(xline,yline)\n",
    "    #clear_output(wait=True)\n",
    "xy=[]\n",
    "for i in range(0,len(x)):\n",
    "    xy=np.array([x[i,1],x[i,2]])\n",
    "xy=xy.reshape(1,2)\n",
    "print(xy)\n",
    "plt.show()"
   ]
  },
  {
   "cell_type": "code",
   "execution_count": null,
   "metadata": {},
   "outputs": [],
   "source": []
  }
 ],
 "metadata": {
  "kernelspec": {
   "display_name": "Python 3",
   "language": "python",
   "name": "python3"
  },
  "language_info": {
   "codemirror_mode": {
    "name": "ipython",
    "version": 3
   },
   "file_extension": ".py",
   "mimetype": "text/x-python",
   "name": "python",
   "nbconvert_exporter": "python",
   "pygments_lexer": "ipython3",
   "version": "3.7.6"
  }
 },
 "nbformat": 4,
 "nbformat_minor": 4
}
