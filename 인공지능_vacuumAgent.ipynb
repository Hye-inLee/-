{
 "cells": [
  {
   "cell_type": "code",
   "execution_count": 4,
   "metadata": {},
   "outputs": [
    {
     "name": "stdout",
     "output_type": "stream",
     "text": [
      "0,1\n"
     ]
    },
    {
     "ename": "ValueError",
     "evalue": "invalid literal for int() with base 10: '0,1'",
     "output_type": "error",
     "traceback": [
      "\u001b[1;31m---------------------------------------------------------------------------\u001b[0m",
      "\u001b[1;31mValueError\u001b[0m                                Traceback (most recent call last)",
      "\u001b[1;32m<ipython-input-4-45bf3dbce7a3>\u001b[0m in \u001b[0;36m<module>\u001b[1;34m\u001b[0m\n\u001b[1;32m----> 1\u001b[1;33m \u001b[0mn\u001b[0m\u001b[1;33m,\u001b[0m \u001b[0mm\u001b[0m \u001b[1;33m=\u001b[0m \u001b[0mmap\u001b[0m\u001b[1;33m(\u001b[0m\u001b[0mint\u001b[0m\u001b[1;33m,\u001b[0m \u001b[0minput\u001b[0m\u001b[1;33m(\u001b[0m\u001b[1;33m)\u001b[0m\u001b[1;33m.\u001b[0m\u001b[0msplit\u001b[0m\u001b[1;33m(\u001b[0m\u001b[1;33m)\u001b[0m\u001b[1;33m)\u001b[0m\u001b[1;33m\u001b[0m\u001b[1;33m\u001b[0m\u001b[0m\n\u001b[0m\u001b[0;32m      2\u001b[0m \u001b[0mx\u001b[0m\u001b[1;33m,\u001b[0m\u001b[0my\u001b[0m\u001b[1;33m,\u001b[0m\u001b[0md\u001b[0m \u001b[1;33m=\u001b[0m \u001b[0mmap\u001b[0m\u001b[1;33m(\u001b[0m\u001b[0mint\u001b[0m\u001b[1;33m,\u001b[0m \u001b[0minput\u001b[0m\u001b[1;33m(\u001b[0m\u001b[1;33m)\u001b[0m\u001b[1;33m.\u001b[0m\u001b[0msplit\u001b[0m\u001b[1;33m(\u001b[0m\u001b[1;33m)\u001b[0m\u001b[1;33m)\u001b[0m\u001b[1;33m\u001b[0m\u001b[1;33m\u001b[0m\u001b[0m\n\u001b[0;32m      3\u001b[0m \u001b[0mboard\u001b[0m \u001b[1;33m=\u001b[0m \u001b[1;33m[\u001b[0m\u001b[0mlist\u001b[0m\u001b[1;33m(\u001b[0m\u001b[0mmap\u001b[0m\u001b[1;33m(\u001b[0m\u001b[0mint\u001b[0m\u001b[1;33m,\u001b[0m\u001b[0minput\u001b[0m\u001b[1;33m(\u001b[0m\u001b[1;33m)\u001b[0m\u001b[1;33m.\u001b[0m\u001b[0msplit\u001b[0m\u001b[1;33m(\u001b[0m\u001b[1;33m)\u001b[0m\u001b[1;33m)\u001b[0m\u001b[1;33m)\u001b[0m\u001b[1;32mfor\u001b[0m \u001b[0m_\u001b[0m \u001b[1;32min\u001b[0m \u001b[0mrange\u001b[0m\u001b[1;33m(\u001b[0m\u001b[0mn\u001b[0m\u001b[1;33m)\u001b[0m\u001b[1;33m]\u001b[0m\u001b[1;33m\u001b[0m\u001b[1;33m\u001b[0m\u001b[0m\n\u001b[0;32m      4\u001b[0m \u001b[1;33m\u001b[0m\u001b[0m\n\u001b[0;32m      5\u001b[0m \u001b[0mdx\u001b[0m\u001b[1;33m,\u001b[0m\u001b[0mdy\u001b[0m \u001b[1;33m=\u001b[0m \u001b[1;33m(\u001b[0m\u001b[1;33m-\u001b[0m\u001b[1;36m1\u001b[0m\u001b[1;33m,\u001b[0m\u001b[1;36m0\u001b[0m\u001b[1;33m,\u001b[0m\u001b[1;36m1\u001b[0m\u001b[1;33m,\u001b[0m\u001b[1;36m0\u001b[0m\u001b[1;33m)\u001b[0m\u001b[1;33m,\u001b[0m \u001b[1;33m(\u001b[0m\u001b[1;36m0\u001b[0m\u001b[1;33m,\u001b[0m\u001b[1;36m1\u001b[0m\u001b[1;33m,\u001b[0m\u001b[1;36m0\u001b[0m\u001b[1;33m,\u001b[0m\u001b[1;33m-\u001b[0m\u001b[1;36m1\u001b[0m\u001b[1;33m)\u001b[0m\u001b[1;33m\u001b[0m\u001b[1;33m\u001b[0m\u001b[0m\n",
      "\u001b[1;31mValueError\u001b[0m: invalid literal for int() with base 10: '0,1'"
     ]
    }
   ],
   "source": [
    "n, m = map(int, input().split())\n",
    "x,y,d = map(int, input().split())\n",
    "board = [list(map(int,input().split()))for _ in range(n)]\n",
    "\n",
    "dx,dy = (-1,0,1,0), (0,1,0,-1)\n",
    "board[x][y] = 2\n",
    "\n",
    "def solve(x,y,d,answer):\n",
    "    while True:\n",
    "        check = False\n",
    "        for k in range(4):\n",
    "            nd = (d+3)%4\n",
    "            next_x, next_y = x + dx[nd],y + dy[nd]\n",
    "            d = nd\n",
    "            if not board[next_x][next_y]:\n",
    "                board[next_x][next_y] = 2\n",
    "                answer += 1\n",
    "                x, y = next_x, next_y\n",
    "                check = True\n",
    "                break\n",
    "        if not check:\n",
    "            if board[x - dx[d]][y- dy[d]] == 1:\n",
    "                return answer\n",
    "            else:\n",
    "                x,y = x - dx[d], y - dy[d]\n",
    "                \n",
    "print(solve(x,y,d,1))"
   ]
  },
  {
   "cell_type": "code",
   "execution_count": null,
   "metadata": {},
   "outputs": [],
   "source": [
    "class SimpleProblemSolvingAgentProgram:\n",
    "    def __init__(self, initial_state=None):\n",
    "        self.state = initial_state\n",
    "        self.seq = []\n",
    "        \n",
    "    def __call__(self,percept):\n",
    "        self.state = self.update_state(self.state, percept)\n",
    "        if not self.seq:\n",
    "            goal = self.formulate_goal(self.state)\n",
    "            problem = self.formulate_problem(selfl.state,goal)\n",
    "            self.seq = self.search(problem)\n",
    "            if not self.seq:\n",
    "                return None\n",
    "        return self.seq.pop(0)\n",
    "    def update_state(self,state,percept):\n",
    "        \n",
    "        \n",
    "    def formulate_goal(self,state,goal):\n",
    "        \n",
    "        \n",
    "    def formulate_problem(self,state,goal):\n",
    "        \n",
    "    def search(self,problem):\n",
    "        "
   ]
  },
  {
   "cell_type": "code",
   "execution_count": null,
   "metadata": {},
   "outputs": [],
   "source": [
    "state1 = [0,[0,\"Dirty\"],[1,\"Dirty\"]]\n",
    "state2 = [1,[0,\"Dirty\"],[1,\"Dirty\"]]\n",
    "state3 = [0,[0,\"Clean\"],[1,\"Dirty\"]]\n",
    "state4 = [1,[0,\"Clean\"],[1,\"Dirty\"]]\n",
    "state5 = [0,[0,\"Dirty\"],[1,\"Clean\"]]\n",
    "state6 = [1,[0,\"Dirty\"],[1,\"Clean\"]]\n",
    "state7 = [0,[0,\"Clean\"],[1,\"Clean\"]]\n",
    "state8 = [1,[0,\"Clean\"],[1,\"Clean\"]]\n",
    "\n",
    "a = vacuumAgent(state1)"
   ]
  }
 ],
 "metadata": {
  "kernelspec": {
   "display_name": "Python 3",
   "language": "python",
   "name": "python3"
  },
  "language_info": {
   "codemirror_mode": {
    "name": "ipython",
    "version": 3
   },
   "file_extension": ".py",
   "mimetype": "text/x-python",
   "name": "python",
   "nbconvert_exporter": "python",
   "pygments_lexer": "ipython3",
   "version": "3.8.3"
  }
 },
 "nbformat": 4,
 "nbformat_minor": 4
}
