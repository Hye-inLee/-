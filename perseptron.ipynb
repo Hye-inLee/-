{
 "cells": [
  {
   "cell_type": "code",
   "execution_count": 5,
   "metadata": {},
   "outputs": [
    {
     "ename": "SyntaxError",
     "evalue": "invalid syntax (<ipython-input-5-49a753d014f4>, line 5)",
     "output_type": "error",
     "traceback": [
      "\u001b[1;36m  File \u001b[1;32m\"<ipython-input-5-49a753d014f4>\"\u001b[1;36m, line \u001b[1;32m5\u001b[0m\n\u001b[1;33m    answer = 0:\u001b[0m\n\u001b[1;37m              ^\u001b[0m\n\u001b[1;31mSyntaxError\u001b[0m\u001b[1;31m:\u001b[0m invalid syntax\n"
     ]
    }
   ],
   "source": [
    "import random\n",
    "from __future__ import print_function\n",
    "\n",
    "def predict(w,x_i):\n",
    "    answer = 0\n",
    "    sum = w[0]\n",
    "    for i in range(1,len(w)):\n",
    "        sum += w[i]*x_i[i-1]\n",
    "        if sum >0:\n",
    "            answer =+ 1\n",
    "        elif sum < 0:\n",
    "            answer = -1\n",
    "        return answer\n",
    "def learn(w,x,y):\n",
    "    if_error_ther = True\n",
    "    while is_error_ther:\n",
    "        is_error_there = False\n",
    "        for i in range(0,len(x)):\n",
    "            answer = predict(w,x[i])\n",
    "            if answer != y[i]:\n",
    "                w[0] += y[i]*1\n",
    "                w[1] += y[i]*x[i][0]\n",
    "                w[2] += y[i]*x[i][1]\n",
    "    return w\n",
    "    \n",
    "    return answer\n",
    "x = [[1,1],[1,3],[2,1],[3,2],[5,3],[6,3],[6,5],[7,2]]\n",
    "y = [-1, -1, -1, -1, 1, 1, 1, 1]\n",
    "w = [ ]\n",
    "for i in range(0,3):\n",
    "    w_i = random.uniform(0,1)\n",
    "    w.append(w_i)\n",
    "    \n",
    "for i in range(0, len(x)):\n",
    "    x_i = x[i]\n",
    "    y_i = y[i]\n",
    "    answer = predict(w,x_i)\n",
    "    print(x_i, end=\", \")\n",
    "    print(y_i, end=\", \")\n",
    "    print(answer)\n"
   ]
  },
  {
   "cell_type": "code",
   "execution_count": 3,
   "metadata": {},
   "outputs": [
    {
     "name": "stdout",
     "output_type": "stream",
     "text": [
      "[1, 1],-1,1\n",
      "[1, 3],-1,1\n",
      "[2, 1],-1,1\n",
      "[3, 2],-1,1\n",
      "[5, 3],1,1\n",
      "[6, 3],1,1\n",
      "[6, 5],1,1\n",
      "[7, 2],1,1\n",
      "[0.5975264060060085, 0.6781299658932571, 0.5948221329167971]\n"
     ]
    }
   ],
   "source": [
    "import random\n",
    "\n",
    "\n",
    "def predict(w,x_i):\n",
    "    answer = 0\n",
    "    sum = w[0]\n",
    "    for i in range(1,len(w)):\n",
    "        sum += w[i]*x_i[i-1]\n",
    "    if sum > 0:\n",
    "        answer = +1\n",
    "    elif sum < 0:\n",
    "        answer = -1\n",
    "    return answer\n",
    "\n",
    "x = [[1,1],[1,3],[2,1],[3,2],[5,3],[6,3],[6,5],[7,2]]\n",
    "y = [-1, -1, -1, -1, 1, 1, 1, 1]\n",
    "w = [ ]\n",
    "for i in range(0,3):\n",
    "    w_i = random.uniform(0,1)\n",
    "    w.append(w_i)\n",
    "    \n",
    "for i in range(0,len(x)):\n",
    "    x_i = x[i]\n",
    "    y_i = y[i]\n",
    "    answer = predict(w,x_i)\n",
    "    print(x_i, end=\",\")\n",
    "    print(y_i, end=\",\")\n",
    "    print(answer)\n",
    "print(w)"
   ]
  },
  {
   "cell_type": "code",
   "execution_count": null,
   "metadata": {},
   "outputs": [],
   "source": []
  },
  {
   "cell_type": "code",
   "execution_count": null,
   "metadata": {},
   "outputs": [],
   "source": []
  }
 ],
 "metadata": {
  "kernelspec": {
   "display_name": "Python 3",
   "language": "python",
   "name": "python3"
  },
  "language_info": {
   "codemirror_mode": {
    "name": "ipython",
    "version": 3
   },
   "file_extension": ".py",
   "mimetype": "text/x-python",
   "name": "python",
   "nbconvert_exporter": "python",
   "pygments_lexer": "ipython3",
   "version": "3.7.6"
  }
 },
 "nbformat": 4,
 "nbformat_minor": 4
}
